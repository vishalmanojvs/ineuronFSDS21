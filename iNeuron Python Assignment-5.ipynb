{
 "cells": [
  {
   "cell_type": "markdown",
   "id": "b4de9bba",
   "metadata": {},
   "source": [
    "# iNeuron Python Assignment-5"
   ]
  },
  {
   "cell_type": "markdown",
   "id": "ade588d2",
   "metadata": {},
   "source": [
    "## 1. What does an empty dictionary's code look like?"
   ]
  },
  {
   "cell_type": "markdown",
   "id": "4f195677",
   "metadata": {},
   "source": [
    "f={}"
   ]
  },
  {
   "cell_type": "markdown",
   "id": "634eef38",
   "metadata": {},
   "source": [
    "## 2. What is the value of a dictionary value with the key 'foo' and the value 42?"
   ]
  },
  {
   "cell_type": "code",
   "execution_count": 10,
   "id": "7b4c0416",
   "metadata": {},
   "outputs": [
    {
     "name": "stdout",
     "output_type": "stream",
     "text": [
      "42\n"
     ]
    }
   ],
   "source": [
    "d = {'foo': 42}\n",
    "value_foo = d ['foo']\n",
    "print(value_foo)"
   ]
  },
  {
   "cell_type": "markdown",
   "id": "ef76d474",
   "metadata": {},
   "source": [
    "## 3. What is the most significant distinction between a dictionary and a list?"
   ]
  },
  {
   "cell_type": "markdown",
   "id": "769153e0",
   "metadata": {},
   "source": [
    "Structure:\n",
    "Dictionary: A dictionary is an unordered collection of key-value pairs, where each key must be unique. Keys are used to access values.\n",
    "my_dict = {'key1': 'value1', 'key2': 'value2'}\n",
    "List: A list is an ordered collection of elements. Elements in a list are accessed by their position (index) in the list.\n",
    "my_list = ['item1', 'item2', 'item3']\n",
    "\n",
    "Accessing Elements:\n",
    "Dictionary: Values in a dictionary are accessed by their keys.\n",
    "value_of_key1 = my_dict['key1']\n",
    "List: Elements in a list are accessed by their index.\n",
    "item_at_index0 = my_list[0]\n",
    "\n",
    "Mutability:\n",
    "Dictionary: Dictionaries are mutable, meaning you can modify the values associated with keys.\n",
    "my_dict['key1'] = 'new_value'\n",
    "List: Lists are also mutable, allowing you to change the elements at specific positions.\n",
    "my_list[0] = 'new_item'"
   ]
  },
  {
   "cell_type": "markdown",
   "id": "baf6db47",
   "metadata": {},
   "source": [
    "## 4. What happens if you try to access spam['foo'] if spam is {'bar': 100}?"
   ]
  },
  {
   "cell_type": "code",
   "execution_count": 18,
   "id": "caa691af",
   "metadata": {},
   "outputs": [
    {
     "ename": "KeyError",
     "evalue": "'foo'",
     "output_type": "error",
     "traceback": [
      "\u001b[1;31m---------------------------------------------------------------------------\u001b[0m",
      "\u001b[1;31mKeyError\u001b[0m                                  Traceback (most recent call last)",
      "\u001b[1;32m<ipython-input-18-3fa7eee1403a>\u001b[0m in \u001b[0;36m<module>\u001b[1;34m\u001b[0m\n\u001b[0;32m      1\u001b[0m \u001b[0mspam\u001b[0m\u001b[1;33m=\u001b[0m\u001b[1;33m{\u001b[0m\u001b[1;34m'bar'\u001b[0m\u001b[1;33m:\u001b[0m\u001b[1;36m100\u001b[0m\u001b[1;33m}\u001b[0m\u001b[1;33m\u001b[0m\u001b[1;33m\u001b[0m\u001b[0m\n\u001b[1;32m----> 2\u001b[1;33m \u001b[0mspam\u001b[0m\u001b[1;33m[\u001b[0m\u001b[1;34m'foo'\u001b[0m\u001b[1;33m]\u001b[0m\u001b[1;33m\u001b[0m\u001b[1;33m\u001b[0m\u001b[0m\n\u001b[0m",
      "\u001b[1;31mKeyError\u001b[0m: 'foo'"
     ]
    }
   ],
   "source": [
    "spam={'bar':100}\n",
    "spam['foo']"
   ]
  },
  {
   "cell_type": "markdown",
   "id": "080be3c9",
   "metadata": {},
   "source": [
    "## 5. If a dictionary is stored in spam, what is the difference between the expressions 'cat' in spam and 'cat' in spam.keys()?"
   ]
  },
  {
   "cell_type": "markdown",
   "id": "3a21834e",
   "metadata": {},
   "source": [
    "In Python, the expressions 'cat' in spam and 'cat' in spam.keys() both check for the presence of the key 'cat' in the dictionary stored in the variable spam, but there is a difference in how they do it."
   ]
  },
  {
   "cell_type": "markdown",
   "id": "c3040065",
   "metadata": {},
   "source": [
    "'cat' in spam:\n",
    "\n",
    "This expression checks if the key 'cat' is present in the dictionary spam. It directly looks for the key in the dictionary without specifying the method (like keys()).\n",
    "\n",
    "'cat' in spam.keys():\n",
    "\n",
    "This expression first calls the keys() method on the dictionary spam to obtain a list of all keys in the dictionary and then checks if the key 'cat' is present in that list."
   ]
  },
  {
   "cell_type": "markdown",
   "id": "b2a7ac34",
   "metadata": {},
   "source": [
    "## 6. If a dictionary is stored in spam, what is the difference between the expressions 'cat' in spam and 'cat' in spam.values()?"
   ]
  },
  {
   "cell_type": "markdown",
   "id": "52151f47",
   "metadata": {},
   "source": [
    "Sames as 5 "
   ]
  },
  {
   "cell_type": "markdown",
   "id": "1a55a8f6",
   "metadata": {},
   "source": [
    "## 7. What is a shortcut for the following code?\n",
    "if 'color' not in spam:\n",
    "spam['color'] = 'black'"
   ]
  },
  {
   "cell_type": "code",
   "execution_count": null,
   "id": "9fd1785b",
   "metadata": {},
   "outputs": [],
   "source": [
    "spam.setdefault('color', 'black')"
   ]
  },
  {
   "cell_type": "code",
   "execution_count": 15,
   "id": "0b873806",
   "metadata": {},
   "outputs": [
    {
     "ename": "NameError",
     "evalue": "name 'color' is not defined",
     "output_type": "error",
     "traceback": [
      "\u001b[1;31m---------------------------------------------------------------------------\u001b[0m",
      "\u001b[1;31mNameError\u001b[0m                                 Traceback (most recent call last)",
      "\u001b[1;32m<ipython-input-15-572b870d1f53>\u001b[0m in \u001b[0;36m<module>\u001b[1;34m\u001b[0m\n\u001b[1;32m----> 1\u001b[1;33m \u001b[1;32mif\u001b[0m \u001b[1;33m(\u001b[0m\u001b[0mcolor\u001b[0m \u001b[1;32mnot\u001b[0m \u001b[1;32min\u001b[0m \u001b[0mspam\u001b[0m\u001b[1;33m)\u001b[0m\u001b[1;33m:\u001b[0m\u001b[1;33m\u001b[0m\u001b[1;33m\u001b[0m\u001b[0m\n\u001b[0m\u001b[0;32m      2\u001b[0m     \u001b[0mspam\u001b[0m\u001b[1;33m[\u001b[0m\u001b[1;34m'color'\u001b[0m\u001b[1;33m]\u001b[0m \u001b[1;33m=\u001b[0m \u001b[1;34m'black'\u001b[0m\u001b[1;33m\u001b[0m\u001b[1;33m\u001b[0m\u001b[0m\n",
      "\u001b[1;31mNameError\u001b[0m: name 'color' is not defined"
     ]
    }
   ],
   "source": [
    "if (color not in spam):\n",
    "    spam['color'] = 'black'"
   ]
  },
  {
   "cell_type": "markdown",
   "id": "4acfa08f",
   "metadata": {},
   "source": [
    "## 8. How do you \"pretty print\" dictionary values using which module and function?"
   ]
  },
  {
   "cell_type": "code",
   "execution_count": 16,
   "id": "a63e96e3",
   "metadata": {},
   "outputs": [
    {
     "name": "stdout",
     "output_type": "stream",
     "text": [
      "{'key1': {'nested_key1': 'value1', 'nested_key2': 'value2'},\n",
      " 'key2': 'value3',\n",
      " 'key3': [1, 2, 3]}\n"
     ]
    }
   ],
   "source": [
    "from pprint import pprint\n",
    "\n",
    "my_dict = {'key1': {'nested_key1': 'value1', 'nested_key2': 'value2'},\n",
    "           'key2': 'value3',\n",
    "           'key3': [1, 2, 3]}\n",
    "\n",
    "pprint(my_dict)"
   ]
  }
 ],
 "metadata": {
  "kernelspec": {
   "display_name": "Python 3",
   "language": "python",
   "name": "python3"
  },
  "language_info": {
   "codemirror_mode": {
    "name": "ipython",
    "version": 3
   },
   "file_extension": ".py",
   "mimetype": "text/x-python",
   "name": "python",
   "nbconvert_exporter": "python",
   "pygments_lexer": "ipython3",
   "version": "3.8.8"
  }
 },
 "nbformat": 4,
 "nbformat_minor": 5
}
