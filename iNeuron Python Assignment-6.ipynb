{
 "cells": [
  {
   "cell_type": "markdown",
   "id": "847b538d",
   "metadata": {},
   "source": [
    "# iNeuron Python Assignment-6"
   ]
  },
  {
   "cell_type": "markdown",
   "id": "71d4e271",
   "metadata": {},
   "source": [
    "## 1.What are escape characters, and how do you use them?"
   ]
  },
  {
   "cell_type": "markdown",
   "id": "3daf84ab",
   "metadata": {},
   "source": [
    "Escape characters are special characters used in strings to represent characters that would otherwise be difficult to include directly. They are preceded by a backslash \\. Escape characters are commonly used in programming languages, regular expressions, and other contexts where certain characters may have special meanings."
   ]
  },
  {
   "cell_type": "markdown",
   "id": "d400fde8",
   "metadata": {},
   "source": [
    "## 2. What do the escape characters n and t stand for?"
   ]
  },
  {
   "cell_type": "markdown",
   "id": "d9889770",
   "metadata": {},
   "source": [
    "\\n-Next Line and \\t-tab (space between charecters)"
   ]
  },
  {
   "cell_type": "markdown",
   "id": "3f157ee9",
   "metadata": {},
   "source": [
    "## 3. What is the way to include backslash characters in a string?"
   ]
  },
  {
   "cell_type": "markdown",
   "id": "9818e876",
   "metadata": {},
   "source": [
    "To include a literal backslash character in a string, you need to use a double backslash (\\ \\). This is because a single backslash is often an escape character itself, used to indicate the beginning of an escape sequence. So, to represent a single backslash, you escape it by using two consecutive backslashes."
   ]
  },
  {
   "cell_type": "markdown",
   "id": "dfa66f6f",
   "metadata": {},
   "source": [
    "## 4. The string \"Howl's Moving Castle\" is a correct value. Why isn't the single quote character in the word Howl's not escaped a problem?"
   ]
  },
  {
   "cell_type": "markdown",
   "id": "639a4f99",
   "metadata": {},
   "source": [
    "In Python, you can use either single quotes (') or double quotes (\") to define strings. This flexibility allows you to choose the quote style that is most convenient for your string, and it also helps in cases where the string itself contains one type of quote. In the case of the string \"Howl's Moving Castle,\" you can use double quotes to define the string without needing to escape the single quote within it:"
   ]
  },
  {
   "cell_type": "markdown",
   "id": "19969375",
   "metadata": {},
   "source": [
    "## 5. How do you write a string of newlines if you don't want to use the n character?"
   ]
  },
  {
   "cell_type": "markdown",
   "id": "6bfeafee",
   "metadata": {},
   "source": [
    "If you don't want to use the newline character (\\n) directly in your string and you're looking for an alternative, you can use triple-quoted strings in Python. Triple-quoted strings can span multiple lines and preserve the line breaks without the need for explicit newline characters."
   ]
  },
  {
   "cell_type": "markdown",
   "id": "eb7f553e",
   "metadata": {},
   "source": [
    "## 6. What are the values of the given expressions?"
   ]
  },
  {
   "cell_type": "code",
   "execution_count": 1,
   "id": "49a997a5",
   "metadata": {},
   "outputs": [
    {
     "data": {
      "text/plain": [
       "'e'"
      ]
     },
     "execution_count": 1,
     "metadata": {},
     "output_type": "execute_result"
    }
   ],
   "source": [
    "'Hello, world!'[1]"
   ]
  },
  {
   "cell_type": "code",
   "execution_count": 2,
   "id": "cfaa5d09",
   "metadata": {},
   "outputs": [
    {
     "data": {
      "text/plain": [
       "'Hello'"
      ]
     },
     "execution_count": 2,
     "metadata": {},
     "output_type": "execute_result"
    }
   ],
   "source": [
    "'Hello, world!'[0:5]"
   ]
  },
  {
   "cell_type": "code",
   "execution_count": 3,
   "id": "fe007f95",
   "metadata": {},
   "outputs": [
    {
     "data": {
      "text/plain": [
       "'Hello'"
      ]
     },
     "execution_count": 3,
     "metadata": {},
     "output_type": "execute_result"
    }
   ],
   "source": [
    "'Hello, world!'[:5]"
   ]
  },
  {
   "cell_type": "code",
   "execution_count": 4,
   "id": "38b9fc83",
   "metadata": {},
   "outputs": [
    {
     "data": {
      "text/plain": [
       "'lo, world!'"
      ]
     },
     "execution_count": 4,
     "metadata": {},
     "output_type": "execute_result"
    }
   ],
   "source": [
    "'Hello, world!'[3:]"
   ]
  },
  {
   "cell_type": "markdown",
   "id": "b1663d5f",
   "metadata": {},
   "source": [
    "## 7. What are the values of the following expressions?"
   ]
  },
  {
   "cell_type": "code",
   "execution_count": 5,
   "id": "f0fe863d",
   "metadata": {},
   "outputs": [
    {
     "data": {
      "text/plain": [
       "'HELLO'"
      ]
     },
     "execution_count": 5,
     "metadata": {},
     "output_type": "execute_result"
    }
   ],
   "source": [
    "'Hello'.upper()"
   ]
  },
  {
   "cell_type": "code",
   "execution_count": 6,
   "id": "76f7c168",
   "metadata": {},
   "outputs": [
    {
     "data": {
      "text/plain": [
       "True"
      ]
     },
     "execution_count": 6,
     "metadata": {},
     "output_type": "execute_result"
    }
   ],
   "source": [
    "'Hello'.upper().isupper()"
   ]
  },
  {
   "cell_type": "code",
   "execution_count": 7,
   "id": "f2477d22",
   "metadata": {},
   "outputs": [
    {
     "data": {
      "text/plain": [
       "'hello'"
      ]
     },
     "execution_count": 7,
     "metadata": {},
     "output_type": "execute_result"
    }
   ],
   "source": [
    "'Hello'.upper().lower()"
   ]
  },
  {
   "cell_type": "markdown",
   "id": "07e90ef3",
   "metadata": {},
   "source": [
    "## 8. What are the values of the following expressions? "
   ]
  },
  {
   "cell_type": "code",
   "execution_count": 9,
   "id": "da0f503a",
   "metadata": {},
   "outputs": [
    {
     "data": {
      "text/plain": [
       "['Remember,', 'remember,', 'the', 'fifth', 'of', 'July.']"
      ]
     },
     "execution_count": 9,
     "metadata": {},
     "output_type": "execute_result"
    }
   ],
   "source": [
    "'Remember, remember, the fifth of July.'.split()"
   ]
  },
  {
   "cell_type": "code",
   "execution_count": 10,
   "id": "f55a8fae",
   "metadata": {},
   "outputs": [
    {
     "data": {
      "text/plain": [
       "'There-can-only-one.'"
      ]
     },
     "execution_count": 10,
     "metadata": {},
     "output_type": "execute_result"
    }
   ],
   "source": [
    "'-'.join('There can only one.'.split())"
   ]
  },
  {
   "cell_type": "markdown",
   "id": "2cf06f63",
   "metadata": {},
   "source": [
    "## 9. What are the methods for right-justifying, left-justifying, and centering a string?"
   ]
  },
  {
   "cell_type": "code",
   "execution_count": 12,
   "id": "aaf25054",
   "metadata": {},
   "outputs": [
    {
     "name": "stdout",
     "output_type": "stream",
     "text": [
      "     Hello\n",
      "Hello     \n",
      "  Hello   \n"
     ]
    }
   ],
   "source": [
    "text = \"Hello\"\n",
    "width = 10\n",
    "\n",
    "right_justified_text = text.rjust(width)\n",
    "left_justified_text = text.ljust(width)\n",
    "centered_text = text.center(width)\n",
    "\n",
    "print (right_justified_text)\n",
    "print(left_justified_text)\n",
    "print(centered_text)"
   ]
  },
  {
   "cell_type": "markdown",
   "id": "65500385",
   "metadata": {},
   "source": [
    "## 10. What is the best way to remove whitespace characters from the start or end?"
   ]
  },
  {
   "cell_type": "markdown",
   "id": "c452d8d4",
   "metadata": {},
   "source": [
    "In Python, the str.strip() method is commonly used to remove leading and trailing whitespace characters from a string. It removes any whitespace characters, including spaces, tabs, and newline characters, from both the beginning and end of the string."
   ]
  },
  {
   "cell_type": "code",
   "execution_count": null,
   "id": "8aae923d",
   "metadata": {},
   "outputs": [],
   "source": []
  }
 ],
 "metadata": {
  "kernelspec": {
   "display_name": "Python 3",
   "language": "python",
   "name": "python3"
  },
  "language_info": {
   "codemirror_mode": {
    "name": "ipython",
    "version": 3
   },
   "file_extension": ".py",
   "mimetype": "text/x-python",
   "name": "python",
   "nbconvert_exporter": "python",
   "pygments_lexer": "ipython3",
   "version": "3.8.8"
  }
 },
 "nbformat": 4,
 "nbformat_minor": 5
}
