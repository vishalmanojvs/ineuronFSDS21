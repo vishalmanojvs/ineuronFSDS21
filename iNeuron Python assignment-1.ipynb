{
 "cells": [
  {
   "cell_type": "markdown",
   "id": "47e0d4d7",
   "metadata": {},
   "source": [
    "# iNeuron Python assignment-1"
   ]
  },
  {
   "cell_type": "markdown",
   "id": "40717274",
   "metadata": {},
   "source": [
    "### 1. In the below elements which of them are values or an expression? eg:- values can be integer or string and expressions will be mathematical operators."
   ]
  },
  {
   "cell_type": "raw",
   "id": "04bf585d",
   "metadata": {},
   "source": [
    "*-It is a mathematical operator\n",
    "'hello'- It is a string\n",
    "-87.8-It is a integer\n",
    "--It is mathematical operator\n",
    "/-It is mathematical operator\n",
    "+-It is mathematical operator\n",
    "6-It is a integer"
   ]
  },
  {
   "cell_type": "markdown",
   "id": "7d9c8b06",
   "metadata": {},
   "source": [
    "### 2. What is the difference between string and variable?"
   ]
  },
  {
   "cell_type": "raw",
   "id": "8de0cab9",
   "metadata": {},
   "source": [
    "A Variable is a store of information, and a String is a type of information you would store in a Variable. A String is usually words, enclosed with \"\" Eg String x =\"Welcome to SoloLearn\" X is the Variable, and we declared it as a String, use the single = to assign the text to it."
   ]
  },
  {
   "cell_type": "markdown",
   "id": "806faad4",
   "metadata": {},
   "source": [
    "### 3. Describe three different data types."
   ]
  },
  {
   "cell_type": "raw",
   "id": "eade48da",
   "metadata": {},
   "source": [
    "Numeric data types: int, float, complex.\n",
    "String data types: str.\n",
    "Sequence types: list, tuple, range.\n",
    "Boolean types: (bool), True, False"
   ]
  },
  {
   "cell_type": "markdown",
   "id": "265c869f",
   "metadata": {},
   "source": [
    "### 4. What is an expression made up of? What do all expressions do?"
   ]
  },
  {
   "cell_type": "raw",
   "id": "f462324b",
   "metadata": {},
   "source": [
    "An expression is a combination of values, variables, operators, and calls to functions.Expressions are representations of value. They are different from statement in the fact that statements do something while expressions are representation of value. For example any string is also an expressions since it represents the value of the string as well."
   ]
  },
  {
   "cell_type": "markdown",
   "id": "2e9d3bb8",
   "metadata": {},
   "source": [
    "### 5. This assignment statements, like spam = 10. What is the difference between an expression and a statement?"
   ]
  },
  {
   "cell_type": "raw",
   "id": "2803f56e",
   "metadata": {},
   "source": [
    "A statement is a group of expressions and/or statements that you design to carry out a task or an action."
   ]
  },
  {
   "cell_type": "markdown",
   "id": "69bbda83",
   "metadata": {},
   "source": [
    "### 6. After running the following code, what does the variable bacon contain?\n",
    "bacon = 22; bacon + 1"
   ]
  },
  {
   "cell_type": "raw",
   "id": "d6431dd1",
   "metadata": {},
   "source": [
    "The variable bacon contains 23"
   ]
  },
  {
   "cell_type": "markdown",
   "id": "6d1007c4",
   "metadata": {},
   "source": [
    "### 7. What should the values of the following two terms be?\n",
    "(A).'spam' + 'spamspam'\n",
    "(B).'spam' * 3"
   ]
  },
  {
   "cell_type": "raw",
   "id": "eaddb0d2",
   "metadata": {},
   "source": [
    "(A)'spamspamspam', (b)'spamspamspam'"
   ]
  },
  {
   "cell_type": "markdown",
   "id": "388daf6a",
   "metadata": {},
   "source": [
    "### 8. Why is eggs a valid variable name while 100 is invalid?"
   ]
  },
  {
   "cell_type": "raw",
   "id": "03b9c447",
   "metadata": {},
   "source": [
    "Variable name cannot be an integer, however it can be a aphlabet"
   ]
  },
  {
   "cell_type": "markdown",
   "id": "d4b24af5",
   "metadata": {},
   "source": [
    "### 9. What three functions can be used to get the integer, floating-point number, or string version of a value?"
   ]
  },
  {
   "cell_type": "raw",
   "id": "119507bc",
   "metadata": {},
   "source": [
    "The three functions can be used to get the integer, floating-point number, or string version of a value are int(),float() and str()"
   ]
  },
  {
   "cell_type": "markdown",
   "id": "a89a2021",
   "metadata": {},
   "source": [
    "### 10. Why does this expression cause an error? How can you fix it?\n",
    "'I have eaten ' + 99 + ' burritos.'"
   ]
  },
  {
   "cell_type": "raw",
   "id": "8e0733fd",
   "metadata": {},
   "source": [
    "You can add only similar datatypes like 1 apple+1 apple=2 apples but 1 apple + 1 mango will give 1 apple + 1 mango only. In case of the above example you can add or concate a string by converting 99 to string by adding a function str(). It should be 'I have eaten' + str(99) + ' burritos.'"
   ]
  }
 ],
 "metadata": {
  "kernelspec": {
   "display_name": "Python 3",
   "language": "python",
   "name": "python3"
  },
  "language_info": {
   "codemirror_mode": {
    "name": "ipython",
    "version": 3
   },
   "file_extension": ".py",
   "mimetype": "text/x-python",
   "name": "python",
   "nbconvert_exporter": "python",
   "pygments_lexer": "ipython3",
   "version": "3.8.8"
  }
 },
 "nbformat": 4,
 "nbformat_minor": 5
}
