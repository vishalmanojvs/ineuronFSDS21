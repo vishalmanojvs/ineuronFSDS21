{
 "cells": [
  {
   "cell_type": "markdown",
   "id": "55c87d80",
   "metadata": {},
   "source": [
    "# iNeuron Python assignment-2"
   ]
  },
  {
   "cell_type": "markdown",
   "id": "289b7300",
   "metadata": {},
   "source": [
    "### 1.What are the two values of the Boolean data type? How do you write them?"
   ]
  },
  {
   "cell_type": "raw",
   "id": "0f492922",
   "metadata": {},
   "source": [
    "A variable of the primitive data type boolean can have two values: true and false (Boolean literals)."
   ]
  },
  {
   "cell_type": "markdown",
   "id": "89643c0b",
   "metadata": {},
   "source": [
    "### 2. What are the three different types of Boolean operators?Make a list of each Boolean operator&#39;s truth tables (i.e. every possible combination of Boolean values for the operator and what it evaluate )."
   ]
  },
  {
   "cell_type": "raw",
   "id": "0788bc1a",
   "metadata": {},
   "source": [
    "There are three logical operators that are used to compare values. They evaluate expressions down to Boolean values, returning either True or False . These operators are and , or , and not and are defined in the table below.\n",
    "==\tEqual to\n",
    "!=\tNot equal to\n",
    "<\tLess than\n",
    ">\tGreater than\n",
    "<=\tLess than or equal to\n",
    ">=\tGreater than or equal to"
   ]
  },
  {
   "cell_type": "markdown",
   "id": "ecede3e2",
   "metadata": {},
   "source": [
    "### 3. Make a list of each Boolean operator&#39;s truth tables (i.e. every possible combination of Boolean values for the operator and what it evaluate )."
   ]
  },
  {
   "cell_type": "raw",
   "id": "e81e2c28",
   "metadata": {},
   "source": [
    "== Truth Table\n",
    "x\t==\ty\tReturns\n",
    "True\t==\tTrue\tTrue\n",
    "True\t==\tFalse\tFalse\n",
    "False\t==\tTrue\tFalse\n",
    "False\t==\tFalse\tTrue\n",
    "AND Truth Table\n",
    "x\tand\ty\tReturns\n",
    "True\tand\tTrue\tTrue\n",
    "True\tand\tFalse\tFalse\n",
    "False\tand\tTrue\tFalse\n",
    "False\tand\tFalse\tFalse\n",
    "OR Truth Table\n",
    "x\tor\ty\tReturns\n",
    "True\tor\tTrue\tTrue\n",
    "True\tor\tFalse\tTrue\n",
    "False\tor\tTrue\tTrue\n",
    "False\tor\tFalse\tFalse\n",
    "NOT Truth Table\n",
    "not\tx\tReturns\n",
    "not\tTrue\tFalse\n",
    "not\tFalse\tTrue\n",
    "x\txor\ty\tReturns\n",
    "True\txor\tTrue\tFalse\n",
    "True\txor\tFalse\tFalse\n",
    "False\txor\tTrue\tFalse\n",
    "False\txor\tFalse\tTrue"
   ]
  },
  {
   "cell_type": "markdown",
   "id": "ec59f345",
   "metadata": {},
   "source": [
    "### 4. What are the values of the following expressions?"
   ]
  },
  {
   "cell_type": "raw",
   "id": "c254c57f",
   "metadata": {},
   "source": [
    "(5>4) and (3==5) is False\n",
    "not (5>4) is False\n",
    "(5>4) or (3==5) is True\n",
    "not ((5>4) or (3 == 5))\n",
    "(True and True) and (True == False) is False\n",
    "(not False) or (not True) is True"
   ]
  },
  {
   "cell_type": "markdown",
   "id": "bb18df2a",
   "metadata": {},
   "source": [
    "### 5. What are the six comparison operators?"
   ]
  },
  {
   "cell_type": "raw",
   "id": "18a32b99",
   "metadata": {},
   "source": [
    "These are the different operators- less than, greater than, less than or equal to, greater than or equal to, equal to, and not equal to."
   ]
  },
  {
   "cell_type": "markdown",
   "id": "036f5b6e",
   "metadata": {},
   "source": [
    "### 6. How do you tell the difference between the equal to and assignment operators?Describe a condition and when you would use one."
   ]
  },
  {
   "cell_type": "raw",
   "id": "90ab6c7b",
   "metadata": {},
   "source": [
    "The '=' is the so-called assignment operator and is used to assign the result of the expression on the right side of the operator to the variable on the left side. The '==' is the so-called equality comparison operator and is used to check whether the two expressions on both sides are equal or not."
   ]
  },
  {
   "cell_type": "markdown",
   "id": "ea817596",
   "metadata": {},
   "source": [
    "### 7. Identify the three blocks in this code:"
   ]
  },
  {
   "cell_type": "raw",
   "id": "d2ad62f1",
   "metadata": {},
   "source": [
    "spam = 0\n",
    "if spam == 10:\n",
    "print('eggs') Block 1\n",
    "if spam > 5:\n",
    "print('bacon')Block 2\n",
    "else:\n",
    "print('ham')Block 3\n",
    "print('spam')\n",
    "print('spam')"
   ]
  },
  {
   "cell_type": "markdown",
   "id": "d619eda3",
   "metadata": {},
   "source": [
    "### 8. Write code that prints Hello if 1 is stored in spam, prints Howdy if 2 is stored in spam, and prints Greetings! if anything else is stored in spam."
   ]
  },
  {
   "cell_type": "raw",
   "id": "52859cef",
   "metadata": {},
   "source": [
    "if(spam==1):\n",
    "    print('Hello')\n",
    "elif(spam==2):\n",
    "    print('Howdy')\n",
    "else:\n",
    "    print('Greetings!')"
   ]
  },
  {
   "cell_type": "markdown",
   "id": "892e7ad6",
   "metadata": {},
   "source": [
    "### 9.If your programme is stuck in an endless loop, what keys you’ll press?"
   ]
  },
  {
   "cell_type": "raw",
   "id": "26426549",
   "metadata": {},
   "source": [
    "You can stop an infinite loop with CTRL + C "
   ]
  },
  {
   "cell_type": "markdown",
   "id": "9b1cddca",
   "metadata": {},
   "source": [
    "### 10. How can you tell the difference between break and continue?"
   ]
  },
  {
   "cell_type": "raw",
   "id": "4320d779",
   "metadata": {},
   "source": [
    "Break and Continue\n",
    "1.The break statement is used to jump out of a loop.But the continue statement is used to skip an iteration from a loop\n",
    "2.Its syntax is -:break;Its syntax is -:continue;\n",
    "3.The break is a keyword present in the language.But continue is a keyword present in the language\n",
    "4.It can be used with loops ex-: for loop, while loop.But it can be used with loops ex-: for loop, while loop.\n",
    "5.The break statement is also used in switch statements.But we can use continue with a switch statement to skip a case."
   ]
  },
  {
   "cell_type": "markdown",
   "id": "5713f966",
   "metadata": {},
   "source": [
    "### 11. In a for loop, what is the difference between range(10), range(0, 10), and range(0, 10, 1)?"
   ]
  },
  {
   "cell_type": "raw",
   "id": "7cecd129",
   "metadata": {},
   "source": [
    "range()\n",
    "Init signature: range(self, /, *args, **kwargs)\n",
    "Docstring:     \n",
    "range(stop) -> range object\n",
    "range(start, stop[, step]) -> range object\n",
    "\n",
    "Return an object that produces a sequence of integers from start (inclusive)\n",
    "to stop (exclusive) by step.  range(i, j) produces i, i+1, i+2, ..., j-1.\n",
    "start defaults to 0, and stop is omitted!  range(4) produces 0, 1, 2, 3.\n",
    "These are exactly the valid indices for a list of 4 elements.\n",
    "When step is given, it specifies the increment (or decrement).\n",
    "Type:           type\n",
    "Subclasses:     "
   ]
  },
  {
   "cell_type": "code",
   "execution_count": 5,
   "id": "001e6299",
   "metadata": {},
   "outputs": [
    {
     "name": "stdout",
     "output_type": "stream",
     "text": [
      "0\n",
      "1\n",
      "2\n",
      "3\n",
      "4\n",
      "5\n",
      "6\n",
      "7\n",
      "8\n",
      "9\n",
      "*-**-**-**-**-**-**-**-**-**-**-**-**-**-**-**-**-**-**-**-**-**-**-**-**-**-**-**-**-**-**-**-**-**-**-**-**-**-**-**-*\n",
      "0\n",
      "1\n",
      "2\n",
      "3\n",
      "4\n",
      "5\n",
      "6\n",
      "7\n",
      "8\n",
      "9\n",
      "+-++-++-++-++-++-++-++-++-++-++-++-++-++-++-++-++-++-++-++-++-++-++-++-++-++-++-++-++-++-++-++-++-++-++-++-++-++-++-++-+\n",
      "0\n",
      "1\n",
      "2\n",
      "3\n",
      "4\n",
      "5\n",
      "6\n",
      "7\n",
      "8\n",
      "9\n"
     ]
    }
   ],
   "source": [
    "for i in range(10):\n",
    "    print(i)\n",
    "print(\"*-*\"*40) \n",
    "for i in range(0,10):\n",
    "    print(i)\n",
    "print(\"+-+\"*40) \n",
    "for i in range(0,10,1):\n",
    "    print(i)"
   ]
  },
  {
   "cell_type": "markdown",
   "id": "e746d49d",
   "metadata": {},
   "source": [
    "### 12. Write a short program that prints the numbers 1 to 10 using a for loop. Then write an equivalent program that prints the numbers 1 to 10 using a while loop."
   ]
  },
  {
   "cell_type": "code",
   "execution_count": 1,
   "id": "dd042ebf",
   "metadata": {},
   "outputs": [
    {
     "name": "stdout",
     "output_type": "stream",
     "text": [
      "0\n",
      "1\n",
      "2\n",
      "3\n",
      "4\n",
      "5\n",
      "6\n",
      "7\n",
      "8\n",
      "9\n",
      "10\n"
     ]
    }
   ],
   "source": [
    "for i in range(0,11):\n",
    "    print(i)"
   ]
  },
  {
   "cell_type": "code",
   "execution_count": 2,
   "id": "d5460c7b",
   "metadata": {},
   "outputs": [
    {
     "name": "stdout",
     "output_type": "stream",
     "text": [
      "0\n",
      "1\n",
      "2\n",
      "3\n",
      "4\n",
      "5\n",
      "6\n",
      "7\n",
      "8\n",
      "9\n",
      "10\n"
     ]
    }
   ],
   "source": [
    "num=0\n",
    "while (num!=11):\n",
    "    print(num)\n",
    "    num+=1"
   ]
  },
  {
   "cell_type": "markdown",
   "id": "685a4da7",
   "metadata": {},
   "source": [
    "### 13. If you had a function named bacon() inside a module named spam, how would you call it after importing spam?"
   ]
  },
  {
   "cell_type": "raw",
   "id": "2f88ab55",
   "metadata": {},
   "source": [
    "This function can be called with spam.bacon()."
   ]
  },
  {
   "cell_type": "code",
   "execution_count": null,
   "id": "f0011c46",
   "metadata": {},
   "outputs": [],
   "source": []
  }
 ],
 "metadata": {
  "kernelspec": {
   "display_name": "Python 3",
   "language": "python",
   "name": "python3"
  },
  "language_info": {
   "codemirror_mode": {
    "name": "ipython",
    "version": 3
   },
   "file_extension": ".py",
   "mimetype": "text/x-python",
   "name": "python",
   "nbconvert_exporter": "python",
   "pygments_lexer": "ipython3",
   "version": "3.8.8"
  }
 },
 "nbformat": 4,
 "nbformat_minor": 5
}
