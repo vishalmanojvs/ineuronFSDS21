{
 "cells": [
  {
   "cell_type": "markdown",
   "id": "862e4fb7",
   "metadata": {},
   "source": [
    "# iNeuron Python assignment-3"
   ]
  },
  {
   "cell_type": "markdown",
   "id": "08f42a4f",
   "metadata": {},
   "source": [
    "## 1. Why are functions advantageous to have in your programs?"
   ]
  },
  {
   "cell_type": "raw",
   "id": "d8758a52",
   "metadata": {},
   "source": [
    "Functions reduce the need for duplicate code. This makes programs shorter, easier to read, and easier to update."
   ]
  },
  {
   "cell_type": "markdown",
   "id": "c8b3e34e",
   "metadata": {},
   "source": [
    "## 2. When does the code in a function run: when it's specified or when it's called?"
   ]
  },
  {
   "cell_type": "raw",
   "id": "5c6c1a4f",
   "metadata": {},
   "source": [
    "The funstion code block only runs or activates when it is called with the specified name accompile by parenthesis with parameters."
   ]
  },
  {
   "cell_type": "markdown",
   "id": "11d03d1b",
   "metadata": {},
   "source": [
    "## 3. What statement creates a function?"
   ]
  },
  {
   "cell_type": "raw",
   "id": "a5ffb9a7",
   "metadata": {},
   "source": [
    "A function is a reusable block of programming statements designed to perform a certain task.In Python, you define a function with the def keyword, then write the function identifier (name) followed by parentheses and a colon."
   ]
  },
  {
   "cell_type": "markdown",
   "id": "d6652970",
   "metadata": {},
   "source": [
    "## 4. What is the difference between a function and a function call?"
   ]
  },
  {
   "cell_type": "raw",
   "id": "2156310f",
   "metadata": {},
   "source": [
    "A function is a reusable block of programming statements designed to perform a certain task.The Function which calls another Function is called Calling Function and function which is called by another Function is call Called Function. "
   ]
  },
  {
   "cell_type": "markdown",
   "id": "fcaae04b",
   "metadata": {},
   "source": [
    "## 5. How many global scopes are there in a Python program? How many local scopes?"
   ]
  },
  {
   "cell_type": "raw",
   "id": "373e5e67",
   "metadata": {},
   "source": [
    "There's only one global Python scope per program execution. This scope remains in existence until the program terminates and all its names are forgotten.At any given time during execution, you’ll have at most four active Python scopes—local, enclosing, global, and built-in—depending on where you are in the code. On the other hand, you’ll always have at least two active scopes, which are the global and built-in scopes."
   ]
  },
  {
   "cell_type": "markdown",
   "id": "448a99cd",
   "metadata": {},
   "source": [
    "## 6. What happens to variables in a local scope when the function call returns?"
   ]
  },
  {
   "cell_type": "raw",
   "id": "90df4773",
   "metadata": {},
   "source": [
    "Each call of the function creates new local variables, and their lifetimes expire when the function returns to the caller."
   ]
  },
  {
   "cell_type": "markdown",
   "id": "f49815a6",
   "metadata": {},
   "source": [
    "## 7. What is the concept of a return value? Is it possible to have a return value in an expression?"
   ]
  },
  {
   "cell_type": "raw",
   "id": "f845fd52",
   "metadata": {},
   "source": [
    "A return is a value that a function returns to the calling script or function when it completes its task. A return value can be any one of the four variable types: handle, integer, object, or string. We can use that value in a math expression or any other kind of expression in which the value has a logical or coherent meaning"
   ]
  },
  {
   "cell_type": "markdown",
   "id": "5f126f4d",
   "metadata": {},
   "source": [
    "## 8. If a function does not have a return statement, what is the return value of a call to that function?"
   ]
  },
  {
   "cell_type": "raw",
   "id": "2552e62e",
   "metadata": {},
   "source": [
    "None type"
   ]
  },
  {
   "cell_type": "markdown",
   "id": "d4fedc0e",
   "metadata": {},
   "source": [
    "## 9. How do you make a function variable refer to the global variable?"
   ]
  },
  {
   "cell_type": "raw",
   "id": "978c3a3a",
   "metadata": {},
   "source": [
    "Acess the Global variable inside the function."
   ]
  },
  {
   "cell_type": "markdown",
   "id": "3e91d55f",
   "metadata": {},
   "source": [
    "## 10. What is the data type of None?"
   ]
  },
  {
   "cell_type": "raw",
   "id": "7f8d7505",
   "metadata": {},
   "source": [
    "The None keyword is used to define a null value, or no value at all. None is not the same as 0, False, or an empty string. None is a data type of its own (NoneType) and only None can be None."
   ]
  },
  {
   "cell_type": "markdown",
   "id": "8fdb7483",
   "metadata": {},
   "source": [
    "## 11. What does the sentence import areallyourpetsnamederic do?"
   ]
  },
  {
   "cell_type": "raw",
   "id": "1c5e797b",
   "metadata": {},
   "source": [
    "That import statement imports a module named areallyourpetsnamederic."
   ]
  },
  {
   "cell_type": "markdown",
   "id": "949dd069",
   "metadata": {},
   "source": [
    "## 12. If you had a bacon() feature in a spam module, what would you call it after importing spam?"
   ]
  },
  {
   "cell_type": "raw",
   "id": "7629fb82",
   "metadata": {},
   "source": [
    "This function can be called with spam. bacon()."
   ]
  },
  {
   "cell_type": "markdown",
   "id": "241d8ec6",
   "metadata": {},
   "source": [
    "## 13. What can you do to save a programme from crashing if it encounters an error?"
   ]
  },
  {
   "cell_type": "raw",
   "id": "358ae354",
   "metadata": {},
   "source": [
    "By using exceptional handling system"
   ]
  },
  {
   "cell_type": "markdown",
   "id": "a8c942f8",
   "metadata": {},
   "source": [
    "## 14. What is the purpose of the try clause? What is the purpose of the except clause?"
   ]
  },
  {
   "cell_type": "raw",
   "id": "4640c78d",
   "metadata": {},
   "source": [
    "It is a type of exceptional error handling system if in case the try fails except blocks gets executed."
   ]
  }
 ],
 "metadata": {
  "kernelspec": {
   "display_name": "Python 3",
   "language": "python",
   "name": "python3"
  },
  "language_info": {
   "codemirror_mode": {
    "name": "ipython",
    "version": 3
   },
   "file_extension": ".py",
   "mimetype": "text/x-python",
   "name": "python",
   "nbconvert_exporter": "python",
   "pygments_lexer": "ipython3",
   "version": "3.8.8"
  }
 },
 "nbformat": 4,
 "nbformat_minor": 5
}
